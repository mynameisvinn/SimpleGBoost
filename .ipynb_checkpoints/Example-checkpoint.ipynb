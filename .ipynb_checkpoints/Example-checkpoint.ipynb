{
 "cells": [
  {
   "cell_type": "code",
   "execution_count": null,
   "metadata": {},
   "outputs": [],
   "source": [
    "import pandas as pd\n",
    "from sklearn.metrics import mean_squared_error\n",
    "\n",
    "from SimpleGBoost import SimpleGBoost"
   ]
  },
  {
   "cell_type": "code",
   "execution_count": null,
   "metadata": {},
   "outputs": [],
   "source": [
    "# toy data\n",
    "\n",
    "df = {\"age\": [13, 14, 15, 25, 35, 49, 68, 71, 73], \n",
    "      \"gardening\": [False, False, False, True, False, True, True, True, True], \n",
    "      \"video\": [True, True, True, True, True, False, True, False, False], \n",
    "      \"hats\": [True, False, False, True, True, False, True, False, True]}\n",
    "\n",
    "df = pd.DataFrame(df)\n",
    "\n",
    "X_train = df.drop([\"age\"], axis=1)\n",
    "y_train = df[\"age\"]"
   ]
  },
  {
   "cell_type": "code",
   "execution_count": null,
   "metadata": {},
   "outputs": [],
   "source": [
    "# instantiate model\n",
    "model = SimpleGBoost()\n",
    "\n",
    "# fit, scikit style\n",
    "model.fit(X_train, y_train)\n",
    "\n",
    "# generate predictions\n",
    "pred = model.predict()\n",
    "\n",
    "# evaluate\n",
    "print(\"initial mse: \", mean_squared_error(y_train, model.f0))\n",
    "print(\"final mse: \", mean_squared_error(y_train, pred))"
   ]
  },
  {
   "cell_type": "code",
   "execution_count": null,
   "metadata": {},
   "outputs": [],
   "source": []
  }
 ],
 "metadata": {
  "kernelspec": {
   "display_name": "Python 3",
   "language": "python",
   "name": "python3"
  },
  "language_info": {
   "codemirror_mode": {
    "name": "ipython",
    "version": 3
   },
   "file_extension": ".py",
   "mimetype": "text/x-python",
   "name": "python",
   "nbconvert_exporter": "python",
   "pygments_lexer": "ipython3",
   "version": "3.7.3"
  }
 },
 "nbformat": 4,
 "nbformat_minor": 2
}
